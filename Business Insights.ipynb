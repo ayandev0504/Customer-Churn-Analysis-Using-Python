{
 "cells": [
  {
   "cell_type": "code",
   "execution_count": 1,
   "id": "513f10be",
   "metadata": {},
   "outputs": [
    {
     "name": "stdout",
     "output_type": "stream",
     "text": [
      "High-risk customers:\n",
      "      CustomerID  Churn_Probability Risk_Segment\n",
      "0             1               1.00         High\n",
      "1             2               1.00         High\n",
      "2             3               1.00         High\n",
      "3             4               1.00         High\n",
      "4             5               1.00         High\n",
      "..          ...                ...          ...\n",
      "995         996               0.96         High\n",
      "996         997               1.00         High\n",
      "997         998               0.99         High\n",
      "998         999               0.99         High\n",
      "999        1000               1.00         High\n",
      "\n",
      "[882 rows x 3 columns]\n",
      "\n",
      "Retention Strategy: Offer discounts or loyalty benefits to high-risk customers to reduce churn.\n"
     ]
    },
    {
     "data": {
      "text/plain": [
       "'\\nimport streamlit as st\\nimport pandas as pd\\nimport pickle\\n\\n# Load model and data\\nmodel = pickle.load(open(\\'rf_model.pkl\\', \\'rb\\'))\\ndf = pd.read_csv(\\'customer (2).csv\\')\\ncategorical_cols = df.select_dtypes(include=\\'object\\').columns.drop(\\'Churn\\')\\n\\nst.title(\"Customer Churn Prediction\")\\n\\n# User input\\nuser_input = {}\\nfor col in df.columns:\\n    if col in categorical_cols:\\n        user_input[col] = st.selectbox(col, df[col].unique())\\n    elif col not in [\\'CustomerID\\', \\'Churn\\']:\\n        user_input[col] = st.number_input(col, float(df[col].min()), float(df[col].max()))\\n\\n# Preprocess input\\ninput_df = pd.DataFrame([user_input])\\ninput_encoded = pd.get_dummies(input_df, columns=categorical_cols, drop_first=True)\\ninput_encoded = input_encoded.reindex(columns=model.feature_names_in_, fill_value=0)\\n\\n# Predict\\nif st.button(\\'Predict Churn\\'):\\n    prob = model.predict_proba(input_encoded)[0, 1]\\n    st.write(f\"Churn Probability: {prob:.2f}\")\\n    if prob > 0.7:\\n        st.warning(\"High risk! Recommend retention offer.\")\\n    else:\\n        st.success(\"Low/Medium risk.\")\\n'"
      ]
     },
     "execution_count": 1,
     "metadata": {},
     "output_type": "execute_result"
    }
   ],
   "source": [
    "import pandas as pd\n",
    "from sklearn.model_selection import train_test_split\n",
    "from sklearn.ensemble import RandomForestClassifier\n",
    "\n",
    "# Load and preprocess data\n",
    "df = pd.read_csv('customer (2).csv')\n",
    "categorical_cols = df.select_dtypes(include='object').columns.drop('Churn')\n",
    "df_encoded = pd.get_dummies(df, columns=categorical_cols, drop_first=True)\n",
    "df_encoded['Churn'] = df_encoded['Churn'].map({'Yes': 1, 'No': 0})\n",
    "\n",
    "X = df_encoded.drop(['Churn', 'CustomerID'], axis=1, errors='ignore')\n",
    "y = df_encoded['Churn']\n",
    "\n",
    "# Train model\n",
    "X_train, X_test, y_train, y_test = train_test_split(X, y, test_size=0.2, random_state=42)\n",
    "rf = RandomForestClassifier(n_estimators=100, random_state=42)\n",
    "rf.fit(X_train, y_train)\n",
    "\n",
    "# Predict churn probabilities for all customers\n",
    "df['Churn_Probability'] = rf.predict_proba(X)[:, 1]\n",
    "\n",
    "# Segment customers: High risk if probability > 0.7\n",
    "df['Risk_Segment'] = pd.cut(df['Churn_Probability'], bins=[0, 0.7, 1], labels=['Low/Medium', 'High'])\n",
    "\n",
    "# Show high-risk customers\n",
    "high_risk_customers = df[df['Risk_Segment'] == 'High']\n",
    "print(\"High-risk customers:\\n\", high_risk_customers[['CustomerID', 'Churn_Probability', 'Risk_Segment']])\n",
    "\n",
    "# Retention strategy suggestion\n",
    "print(\"\\nRetention Strategy: Offer discounts or loyalty benefits to high-risk customers to reduce churn.\")\n",
    "\n",
    "# --- Deployment Example with Streamlit ---\n",
    "# Save this as app.py and run: streamlit run app.py\n",
    "\n",
    "\"\"\"\n",
    "import streamlit as st\n",
    "import pandas as pd\n",
    "import pickle\n",
    "\n",
    "# Load model and data\n",
    "model = pickle.load(open('rf_model.pkl', 'rb'))\n",
    "df = pd.read_csv('customer (2).csv')\n",
    "categorical_cols = df.select_dtypes(include='object').columns.drop('Churn')\n",
    "\n",
    "st.title(\"Customer Churn Prediction\")\n",
    "\n",
    "# User input\n",
    "user_input = {}\n",
    "for col in df.columns:\n",
    "    if col in categorical_cols:\n",
    "        user_input[col] = st.selectbox(col, df[col].unique())\n",
    "    elif col not in ['CustomerID', 'Churn']:\n",
    "        user_input[col] = st.number_input(col, float(df[col].min()), float(df[col].max()))\n",
    "\n",
    "# Preprocess input\n",
    "input_df = pd.DataFrame([user_input])\n",
    "input_encoded = pd.get_dummies(input_df, columns=categorical_cols, drop_first=True)\n",
    "input_encoded = input_encoded.reindex(columns=model.feature_names_in_, fill_value=0)\n",
    "\n",
    "# Predict\n",
    "if st.button('Predict Churn'):\n",
    "    prob = model.predict_proba(input_encoded)[0, 1]\n",
    "    st.write(f\"Churn Probability: {prob:.2f}\")\n",
    "    if prob > 0.7:\n",
    "        st.warning(\"High risk! Recommend retention offer.\")\n",
    "    else:\n",
    "        st.success(\"Low/Medium risk.\")\n",
    "\"\"\""
   ]
  }
 ],
 "metadata": {
  "kernelspec": {
   "display_name": "Python 3",
   "language": "python",
   "name": "python3"
  },
  "language_info": {
   "codemirror_mode": {
    "name": "ipython",
    "version": 3
   },
   "file_extension": ".py",
   "mimetype": "text/x-python",
   "name": "python",
   "nbconvert_exporter": "python",
   "pygments_lexer": "ipython3",
   "version": "3.11.11"
  }
 },
 "nbformat": 4,
 "nbformat_minor": 5
}
