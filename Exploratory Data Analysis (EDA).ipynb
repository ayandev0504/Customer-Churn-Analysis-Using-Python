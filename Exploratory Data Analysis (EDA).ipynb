{
 "cells": [
  {
   "cell_type": "code",
   "execution_count": 1,
   "id": "e16eddfb",
   "metadata": {},
   "outputs": [
    {
     "name": "stdout",
     "output_type": "stream",
     "text": [
      "Missing values per column:\n",
      " CustomerID           0\n",
      "Age                  0\n",
      "Gender               0\n",
      "Tenure               0\n",
      "MonthlyCharges       0\n",
      "ContractType         0\n",
      "InternetService    297\n",
      "TotalCharges         0\n",
      "TechSupport          0\n",
      "Churn                0\n",
      "dtype: int64\n",
      "\n",
      "Distributions:\n",
      "          CustomerID          Age  Gender      Tenure  MonthlyCharges  \\\n",
      "count   1000.000000  1000.000000    1000  1000.00000     1000.000000   \n",
      "unique          NaN          NaN       2         NaN             NaN   \n",
      "top             NaN          NaN  Female         NaN             NaN   \n",
      "freq            NaN          NaN     538         NaN             NaN   \n",
      "mean     500.500000    44.674000     NaN    18.97300       74.391290   \n",
      "std      288.819436     9.797741     NaN    18.89257       25.712083   \n",
      "min        1.000000    12.000000     NaN     0.00000       30.000000   \n",
      "25%      250.750000    38.000000     NaN     5.00000       52.357500   \n",
      "50%      500.500000    45.000000     NaN    13.00000       74.060000   \n",
      "75%      750.250000    51.000000     NaN    26.00000       96.102500   \n",
      "max     1000.000000    83.000000     NaN   122.00000      119.960000   \n",
      "\n",
      "          ContractType InternetService  TotalCharges TechSupport Churn  \n",
      "count             1000             703   1000.000000        1000  1000  \n",
      "unique               3               2           NaN           2     2  \n",
      "top     Month-to-Month     Fiber Optic           NaN         Yes   Yes  \n",
      "freq               511             395           NaN         506   883  \n",
      "mean               NaN             NaN   1404.364060         NaN   NaN  \n",
      "std                NaN             NaN   1571.755048         NaN   NaN  \n",
      "min                NaN             NaN      0.000000         NaN   NaN  \n",
      "25%                NaN             NaN    345.217500         NaN   NaN  \n",
      "50%                NaN             NaN    872.870000         NaN   NaN  \n",
      "75%                NaN             NaN   1900.175000         NaN   NaN  \n",
      "max                NaN             NaN  12416.250000         NaN   NaN  \n",
      "\n",
      "Number of anomalies (outliers) per numeric column:\n",
      " {'CustomerID': 0, 'Age': 8, 'Tenure': 61, 'MonthlyCharges': 0, 'TotalCharges': 57}\n"
     ]
    }
   ],
   "source": [
    "import pandas as pd\n",
    "\n",
    "# Load the CSV file\n",
    "df = pd.read_csv('customer (2).csv')\n",
    "\n",
    "# 1. Identify missing values\n",
    "missing_values = df.isnull().sum()\n",
    "print(\"Missing values per column:\\n\", missing_values)\n",
    "\n",
    "# 2. Understand distributions\n",
    "distributions = df.describe(include='all')\n",
    "print(\"\\nDistributions:\\n\", distributions)\n",
    "\n",
    "# 3. Detect anomalies (simple outlier detection for numeric columns)\n",
    "anomalies = {}\n",
    "for col in df.select_dtypes(include='number').columns:\n",
    "    q1 = df[col].quantile(0.25)\n",
    "    q3 = df[col].quantile(0.75)\n",
    "    iqr = q3 - q1\n",
    "    lower = q1 - 1.5 * iqr\n",
    "    upper = q3 + 1.5 * iqr\n",
    "    outliers = df[(df[col] < lower) | (df[col] > upper)]\n",
    "    anomalies[col] = outliers.shape[0]\n",
    "\n",
    "print(\"\\nNumber of anomalies (outliers) per numeric column:\\n\", anomalies)"
   ]
  },
  {
   "cell_type": "code",
   "execution_count": null,
   "id": "900e412e",
   "metadata": {},
   "outputs": [],
   "source": []
  }
 ],
 "metadata": {
  "kernelspec": {
   "display_name": "Python 3",
   "language": "python",
   "name": "python3"
  },
  "language_info": {
   "codemirror_mode": {
    "name": "ipython",
    "version": 3
   },
   "file_extension": ".py",
   "mimetype": "text/x-python",
   "name": "python",
   "nbconvert_exporter": "python",
   "pygments_lexer": "ipython3",
   "version": "3.11.11"
  }
 },
 "nbformat": 4,
 "nbformat_minor": 5
}
