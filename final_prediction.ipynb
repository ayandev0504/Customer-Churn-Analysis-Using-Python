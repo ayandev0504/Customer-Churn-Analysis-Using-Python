{
 "cells": [
  {
   "cell_type": "code",
   "execution_count": 3,
   "id": "a0b1e95e",
   "metadata": {},
   "outputs": [
    {
     "name": "stdout",
     "output_type": "stream",
     "text": [
      "Customers likely to stop using the product:\n",
      "     CustomerID  Churn_Probability\n",
      "0             1               1.00\n",
      "1             2               1.00\n",
      "2             3               1.00\n",
      "3             4               0.99\n",
      "4             5               1.00\n",
      "..          ...                ...\n",
      "995         996               0.99\n",
      "996         997               1.00\n",
      "997         998               1.00\n",
      "998         999               0.99\n",
      "999        1000               1.00\n",
      "\n",
      "[883 rows x 2 columns]\n"
     ]
    }
   ],
   "source": [
    "import pandas as pd\n",
    "from sklearn.ensemble import RandomForestClassifier\n",
    "\n",
    "# Load and preprocess data\n",
    "df = pd.read_csv('customer (2).csv')\n",
    "categorical_cols = df.select_dtypes(include='object').columns.drop('Churn')\n",
    "df_encoded = pd.get_dummies(df, columns=categorical_cols, drop_first=True)\n",
    "df_encoded['Churn'] = df_encoded['Churn'].map({'Yes': 1, 'No': 0})\n",
    "\n",
    "X = df_encoded.drop(['Churn', 'CustomerID'], axis=1, errors='ignore')\n",
    "y = df_encoded['Churn']\n",
    "\n",
    "# Train Random Forest model on all data (for demonstration)\n",
    "rf = RandomForestClassifier(n_estimators=100, random_state=42)\n",
    "rf.fit(X, y)\n",
    "\n",
    "# Predict churn probabilities\n",
    "df['Churn_Probability'] = rf.predict_proba(X)[:, 1]\n",
    "df['Likely_to_Churn'] = df['Churn_Probability'] > 0.5\n",
    "\n",
    "# Show customers likely to churn\n",
    "likely_churners = df[df['Likely_to_Churn']]\n",
    "print(\"Customers likely to stop using the product:\")\n",
    "print(likely_churners[['CustomerID', 'Churn_Probability']])"
   ]
  },
  {
   "cell_type": "code",
   "execution_count": null,
   "id": "a7eecac2",
   "metadata": {},
   "outputs": [],
   "source": []
  }
 ],
 "metadata": {
  "kernelspec": {
   "display_name": "Python 3",
   "language": "python",
   "name": "python3"
  },
  "language_info": {
   "codemirror_mode": {
    "name": "ipython",
    "version": 3
   },
   "file_extension": ".py",
   "mimetype": "text/x-python",
   "name": "python",
   "nbconvert_exporter": "python",
   "pygments_lexer": "ipython3",
   "version": "3.11.11"
  }
 },
 "nbformat": 4,
 "nbformat_minor": 5
}
